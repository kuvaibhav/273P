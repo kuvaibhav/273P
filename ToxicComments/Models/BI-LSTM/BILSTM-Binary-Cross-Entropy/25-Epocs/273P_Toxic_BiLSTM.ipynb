{
  "nbformat": 4,
  "nbformat_minor": 0,
  "metadata": {
    "colab": {
      "name": "273P-Toxic-BiLSTM.ipynb",
      "provenance": []
    },
    "kernelspec": {
      "name": "python3",
      "display_name": "Python 3"
    },
    "language_info": {
      "name": "python"
    },
    "accelerator": "GPU"
  },
  "cells": [
    {
      "cell_type": "code",
      "metadata": {
        "id": "0OetT42Z2x17"
      },
      "source": [
        "import pandas as pd\n",
        "import matplotlib.pyplot as plt\n",
        "dataset = pd.read_csv('train.csv')"
      ],
      "execution_count": 21,
      "outputs": []
    },
    {
      "cell_type": "code",
      "metadata": {
        "colab": {
          "base_uri": "https://localhost:8080/",
          "height": 289
        },
        "id": "n84a-zOD4WSr",
        "outputId": "d9d30a22-b76c-4750-f501-a3483a1ae9b9"
      },
      "source": [
        "dataset.head()"
      ],
      "execution_count": 22,
      "outputs": [
        {
          "output_type": "execute_result",
          "data": {
            "text/html": [
              "<div>\n",
              "<style scoped>\n",
              "    .dataframe tbody tr th:only-of-type {\n",
              "        vertical-align: middle;\n",
              "    }\n",
              "\n",
              "    .dataframe tbody tr th {\n",
              "        vertical-align: top;\n",
              "    }\n",
              "\n",
              "    .dataframe thead th {\n",
              "        text-align: right;\n",
              "    }\n",
              "</style>\n",
              "<table border=\"1\" class=\"dataframe\">\n",
              "  <thead>\n",
              "    <tr style=\"text-align: right;\">\n",
              "      <th></th>\n",
              "      <th>id</th>\n",
              "      <th>comment_text</th>\n",
              "      <th>toxic</th>\n",
              "      <th>severe_toxic</th>\n",
              "      <th>obscene</th>\n",
              "      <th>threat</th>\n",
              "      <th>insult</th>\n",
              "      <th>identity_hate</th>\n",
              "    </tr>\n",
              "  </thead>\n",
              "  <tbody>\n",
              "    <tr>\n",
              "      <th>0</th>\n",
              "      <td>0000997932d777bf</td>\n",
              "      <td>Explanation\\nWhy the edits made under my usern...</td>\n",
              "      <td>0</td>\n",
              "      <td>0</td>\n",
              "      <td>0</td>\n",
              "      <td>0</td>\n",
              "      <td>0</td>\n",
              "      <td>0</td>\n",
              "    </tr>\n",
              "    <tr>\n",
              "      <th>1</th>\n",
              "      <td>000103f0d9cfb60f</td>\n",
              "      <td>D'aww! He matches this background colour I'm s...</td>\n",
              "      <td>0</td>\n",
              "      <td>0</td>\n",
              "      <td>0</td>\n",
              "      <td>0</td>\n",
              "      <td>0</td>\n",
              "      <td>0</td>\n",
              "    </tr>\n",
              "    <tr>\n",
              "      <th>2</th>\n",
              "      <td>000113f07ec002fd</td>\n",
              "      <td>Hey man, I'm really not trying to edit war. It...</td>\n",
              "      <td>0</td>\n",
              "      <td>0</td>\n",
              "      <td>0</td>\n",
              "      <td>0</td>\n",
              "      <td>0</td>\n",
              "      <td>0</td>\n",
              "    </tr>\n",
              "    <tr>\n",
              "      <th>3</th>\n",
              "      <td>0001b41b1c6bb37e</td>\n",
              "      <td>\"\\nMore\\nI can't make any real suggestions on ...</td>\n",
              "      <td>0</td>\n",
              "      <td>0</td>\n",
              "      <td>0</td>\n",
              "      <td>0</td>\n",
              "      <td>0</td>\n",
              "      <td>0</td>\n",
              "    </tr>\n",
              "    <tr>\n",
              "      <th>4</th>\n",
              "      <td>0001d958c54c6e35</td>\n",
              "      <td>You, sir, are my hero. Any chance you remember...</td>\n",
              "      <td>0</td>\n",
              "      <td>0</td>\n",
              "      <td>0</td>\n",
              "      <td>0</td>\n",
              "      <td>0</td>\n",
              "      <td>0</td>\n",
              "    </tr>\n",
              "  </tbody>\n",
              "</table>\n",
              "</div>"
            ],
            "text/plain": [
              "                 id  ... identity_hate\n",
              "0  0000997932d777bf  ...             0\n",
              "1  000103f0d9cfb60f  ...             0\n",
              "2  000113f07ec002fd  ...             0\n",
              "3  0001b41b1c6bb37e  ...             0\n",
              "4  0001d958c54c6e35  ...             0\n",
              "\n",
              "[5 rows x 8 columns]"
            ]
          },
          "metadata": {
            "tags": []
          },
          "execution_count": 22
        }
      ]
    },
    {
      "cell_type": "code",
      "metadata": {
        "colab": {
          "base_uri": "https://localhost:8080/"
        },
        "id": "LTt0ITYg4fa4",
        "outputId": "042cbed9-cb07-46ca-f40f-7c9f26c85fbc"
      },
      "source": [
        "dataset.isnull().sum()"
      ],
      "execution_count": 23,
      "outputs": [
        {
          "output_type": "execute_result",
          "data": {
            "text/plain": [
              "id               0\n",
              "comment_text     0\n",
              "toxic            0\n",
              "severe_toxic     0\n",
              "obscene          0\n",
              "threat           0\n",
              "insult           0\n",
              "identity_hate    0\n",
              "dtype: int64"
            ]
          },
          "metadata": {
            "tags": []
          },
          "execution_count": 23
        }
      ]
    },
    {
      "cell_type": "code",
      "metadata": {
        "colab": {
          "base_uri": "https://localhost:8080/"
        },
        "id": "RgusYGe74lFK",
        "outputId": "df1119c2-b964-4242-d86b-2128c2c05c4a"
      },
      "source": [
        "sentiment = dataset['comment_text'].values\n",
        "y_list = [\"toxic\",\"severe_toxic\", \"obscene\", \"threat\", \"insult\", \"identity_hate\"]\n",
        "y = dataset[y_list].values\n",
        "sentiment"
      ],
      "execution_count": 24,
      "outputs": [
        {
          "output_type": "execute_result",
          "data": {
            "text/plain": [
              "array([\"Explanation\\nWhy the edits made under my username Hardcore Metallica Fan were reverted? They weren't vandalisms, just closure on some GAs after I voted at New York Dolls FAC. And please don't remove the template from the talk page since I'm retired now.89.205.38.27\",\n",
              "       \"D'aww! He matches this background colour I'm seemingly stuck with. Thanks.  (talk) 21:51, January 11, 2016 (UTC)\",\n",
              "       \"Hey man, I'm really not trying to edit war. It's just that this guy is constantly removing relevant information and talking to me through edits instead of my talk page. He seems to care more about the formatting than the actual info.\",\n",
              "       ...,\n",
              "       'Spitzer \\n\\nUmm, theres no actual article for prostitution ring.  - Crunch Captain.',\n",
              "       'And it looks like it was actually you who put on the speedy to have the first version deleted now that I look at it.',\n",
              "       '\"\\nAnd ... I really don\\'t think you understand.  I came here and my idea was bad right away.  What kind of community goes \"\"you have bad ideas\"\" go away, instead of helping rewrite them.   \"'],\n",
              "      dtype=object)"
            ]
          },
          "metadata": {
            "tags": []
          },
          "execution_count": 24
        }
      ]
    },
    {
      "cell_type": "code",
      "metadata": {
        "id": "XKqkf5cz4pFs"
      },
      "source": [
        "from keras.preprocessing.text import Tokenizer\n",
        "tokenizer = Tokenizer(num_words=20000)\n",
        "tokenizer.fit_on_texts(list(sentiment))"
      ],
      "execution_count": 25,
      "outputs": []
    },
    {
      "cell_type": "code",
      "metadata": {
        "id": "kGc66rPE4uyt"
      },
      "source": [
        "from keras.preprocessing import text, sequence\n",
        "\n",
        "seq = tokenizer.texts_to_sequences(sentiment)\n",
        "pad = sequence.pad_sequences(seq, maxlen=100)"
      ],
      "execution_count": 26,
      "outputs": []
    },
    {
      "cell_type": "code",
      "metadata": {
        "id": "hTKfSqmJ41ox"
      },
      "source": [
        "test = pd.read_csv('test.csv')\n",
        "test = test['comment_text'].values\n",
        "test_seq = tokenizer.texts_to_sequences(test)\n",
        "test_pad = sequence.pad_sequences(test_seq, maxlen=100)"
      ],
      "execution_count": 27,
      "outputs": []
    },
    {
      "cell_type": "code",
      "metadata": {
        "id": "zQPkz_EnG5Do"
      },
      "source": [
        "def plot_history(history):\n",
        "\t  # plot loss\n",
        "    plt.title('Loss')\n",
        "    plt.plot(history.history['loss'], color='blue', label='train')\n",
        "    plt.plot(history.history['val_loss'], color='red', label='test')\n",
        "    plt.ylabel('Loss')\n",
        "    plt.xlabel('Epoch')\n",
        "    plt.legend(['Train', 'Validation'])\n",
        "    plt.show()\n",
        "    \n",
        "    # plot accuracy\n",
        "    plt.title('Accuracy')\n",
        "    plt.plot(history.history['categorical_accuracy'], color='blue', label='train')\n",
        "    plt.plot(history.history['val_categorical_accuracy'], color='red', label='test')\n",
        "    plt.ylabel('Accuracy')\n",
        "    plt.xlabel('Epoch')\n",
        "    plt.legend(['Train', 'Validation'])\n",
        "    plt.show()"
      ],
      "execution_count": 28,
      "outputs": []
    },
    {
      "cell_type": "code",
      "metadata": {
        "colab": {
          "base_uri": "https://localhost:8080/"
        },
        "id": "E0mdxyhq5Shv",
        "outputId": "b0e99d7d-eda8-43a4-cf80-ab0f2dfa6bbc"
      },
      "source": [
        "from keras.layers import Dense, Input, LSTM, Embedding, Dropout, Activation\n",
        "from keras.layers import Bidirectional, GlobalMaxPool1D\n",
        "from keras.models import Model\n",
        "from keras import initializers, regularizers, constraints, optimizers, layers\n",
        "\n",
        "\n",
        "def model_add():\n",
        "    inputs = Input(shape=(100, ))\n",
        "    x = Embedding(20000, 128)(inputs)\n",
        "    x = Bidirectional(LSTM(50))(x)\n",
        "    x = Dropout(0.1)(x)\n",
        "    x = Dense(50, activation=\"relu\")(x)\n",
        "    x = Dropout(0.1)(x)\n",
        "    outputs = Dense(6, activation=\"sigmoid\")(x)\n",
        "    model = Model(inputs=inputs, outputs=outputs)\n",
        "    model.compile(loss='binary_crossentropy',\n",
        "                  optimizer='adam',\n",
        "                  metrics=['categorical_accuracy'])\n",
        "    return model\n",
        "model = model_add()\n",
        "print(model.summary())"
      ],
      "execution_count": 29,
      "outputs": [
        {
          "output_type": "stream",
          "text": [
            "Model: \"model_2\"\n",
            "_________________________________________________________________\n",
            "Layer (type)                 Output Shape              Param #   \n",
            "=================================================================\n",
            "input_3 (InputLayer)         [(None, 100)]             0         \n",
            "_________________________________________________________________\n",
            "embedding_2 (Embedding)      (None, 100, 128)          2560000   \n",
            "_________________________________________________________________\n",
            "bidirectional_2 (Bidirection (None, 100)               71600     \n",
            "_________________________________________________________________\n",
            "dropout_4 (Dropout)          (None, 100)               0         \n",
            "_________________________________________________________________\n",
            "dense_4 (Dense)              (None, 50)                5050      \n",
            "_________________________________________________________________\n",
            "dropout_5 (Dropout)          (None, 50)                0         \n",
            "_________________________________________________________________\n",
            "dense_5 (Dense)              (None, 6)                 306       \n",
            "=================================================================\n",
            "Total params: 2,636,956\n",
            "Trainable params: 2,636,956\n",
            "Non-trainable params: 0\n",
            "_________________________________________________________________\n",
            "None\n"
          ],
          "name": "stdout"
        }
      ]
    },
    {
      "cell_type": "code",
      "metadata": {
        "colab": {
          "base_uri": "https://localhost:8080/",
          "height": 1000
        },
        "id": "ScW2ZcHn5_oJ",
        "outputId": "1a0f1aec-250e-4f84-c77a-78af6d52327a"
      },
      "source": [
        "from keras.callbacks import EarlyStopping, ModelCheckpoint\n",
        "early = EarlyStopping(monitor=\"val_loss\", mode=\"min\", patience=20)\n",
        "model_his = model.fit(pad, y, batch_size=32, epochs=25, validation_split=0.1, callbacks=early)\n",
        "plot_history(model_his)"
      ],
      "execution_count": 32,
      "outputs": [
        {
          "output_type": "stream",
          "text": [
            "Epoch 1/25\n",
            "4488/4488 [==============================] - 157s 35ms/step - loss: 0.0043 - categorical_accuracy: 0.8195 - val_loss: 0.1710 - val_categorical_accuracy: 0.9366\n",
            "Epoch 2/25\n",
            "4488/4488 [==============================] - 154s 34ms/step - loss: 0.0040 - categorical_accuracy: 0.8475 - val_loss: 0.1773 - val_categorical_accuracy: 0.8292\n",
            "Epoch 3/25\n",
            "4488/4488 [==============================] - 154s 34ms/step - loss: 0.0038 - categorical_accuracy: 0.8063 - val_loss: 0.1872 - val_categorical_accuracy: 0.9304\n",
            "Epoch 4/25\n",
            "4488/4488 [==============================] - 155s 34ms/step - loss: 0.0035 - categorical_accuracy: 0.8434 - val_loss: 0.1824 - val_categorical_accuracy: 0.8846\n",
            "Epoch 5/25\n",
            "4488/4488 [==============================] - 154s 34ms/step - loss: 0.0033 - categorical_accuracy: 0.8203 - val_loss: 0.1987 - val_categorical_accuracy: 0.8604\n",
            "Epoch 6/25\n",
            "4488/4488 [==============================] - 155s 35ms/step - loss: 0.0034 - categorical_accuracy: 0.8312 - val_loss: 0.1868 - val_categorical_accuracy: 0.8235\n",
            "Epoch 7/25\n",
            "4488/4488 [==============================] - 155s 35ms/step - loss: 0.0030 - categorical_accuracy: 0.8238 - val_loss: 0.1920 - val_categorical_accuracy: 0.8831\n",
            "Epoch 8/25\n",
            "4488/4488 [==============================] - 155s 34ms/step - loss: 0.0029 - categorical_accuracy: 0.7837 - val_loss: 0.1930 - val_categorical_accuracy: 0.7134\n",
            "Epoch 9/25\n",
            "4488/4488 [==============================] - 153s 34ms/step - loss: 0.0029 - categorical_accuracy: 0.7752 - val_loss: 0.1991 - val_categorical_accuracy: 0.8151\n",
            "Epoch 10/25\n",
            "4488/4488 [==============================] - 154s 34ms/step - loss: 0.0030 - categorical_accuracy: 0.8008 - val_loss: 0.2016 - val_categorical_accuracy: 0.8779\n",
            "Epoch 11/25\n",
            "4488/4488 [==============================] - 155s 34ms/step - loss: 0.0030 - categorical_accuracy: 0.8164 - val_loss: 0.1914 - val_categorical_accuracy: 0.8488\n",
            "Epoch 12/25\n",
            "4488/4488 [==============================] - 154s 34ms/step - loss: 0.0028 - categorical_accuracy: 0.8364 - val_loss: 0.2035 - val_categorical_accuracy: 0.8933\n",
            "Epoch 13/25\n",
            "4488/4488 [==============================] - 153s 34ms/step - loss: 0.0025 - categorical_accuracy: 0.8063 - val_loss: 0.1975 - val_categorical_accuracy: 0.8664\n",
            "Epoch 14/25\n",
            "4488/4488 [==============================] - 154s 34ms/step - loss: 0.0027 - categorical_accuracy: 0.8506 - val_loss: 0.2004 - val_categorical_accuracy: 0.9130\n",
            "Epoch 15/25\n",
            "4488/4488 [==============================] - 154s 34ms/step - loss: 0.0024 - categorical_accuracy: 0.8325 - val_loss: 0.2046 - val_categorical_accuracy: 0.8024\n",
            "Epoch 16/25\n",
            "4488/4488 [==============================] - 154s 34ms/step - loss: 0.0026 - categorical_accuracy: 0.8214 - val_loss: 0.2047 - val_categorical_accuracy: 0.8954\n",
            "Epoch 17/25\n",
            "4488/4488 [==============================] - 155s 35ms/step - loss: 0.0023 - categorical_accuracy: 0.8526 - val_loss: 0.2162 - val_categorical_accuracy: 0.8819\n",
            "Epoch 18/25\n",
            "4488/4488 [==============================] - 155s 35ms/step - loss: 0.0024 - categorical_accuracy: 0.8285 - val_loss: 0.2320 - val_categorical_accuracy: 0.8989\n",
            "Epoch 19/25\n",
            "4488/4488 [==============================] - 155s 35ms/step - loss: 0.0024 - categorical_accuracy: 0.7889 - val_loss: 0.2050 - val_categorical_accuracy: 0.8560\n",
            "Epoch 20/25\n",
            "4488/4488 [==============================] - 155s 35ms/step - loss: 0.0021 - categorical_accuracy: 0.7613 - val_loss: 0.2105 - val_categorical_accuracy: 0.8857\n",
            "Epoch 21/25\n",
            "4488/4488 [==============================] - 154s 34ms/step - loss: 0.0022 - categorical_accuracy: 0.8112 - val_loss: 0.2159 - val_categorical_accuracy: 0.8860\n"
          ],
          "name": "stdout"
        },
        {
          "output_type": "display_data",
          "data": {
            "image/png": "[encoded data removed]",
            "text/plain": [
              "<Figure size 432x288 with 1 Axes>"
            ]
          },
          "metadata": {
            "tags": [],
            "needs_background": "light"
          }
        },
        {
          "output_type": "display_data",
          "data": {
            "image/png": "[encoded data removed]",
            "text/plain": [
              "<Figure size 432x288 with 1 Axes>"
            ]
          },
          "metadata": {
            "tags": [],
            "needs_background": "light"
          }
        }
      ]
    },
    {
      "cell_type": "code",
      "metadata": {
        "colab": {
          "base_uri": "https://localhost:8080/"
        },
        "id": "XhDH1INE6EUr",
        "outputId": "0f03c9eb-4b01-40e9-ed2c-6a542f405d8e"
      },
      "source": [
        "y_test = model.predict([test_pad], batch_size=1024, verbose=1)\n",
        "sample_submission = pd.read_csv('sample_submission.csv')\n",
        "sample_submission[y_list] = y_test\n",
        "sample_submission.to_csv('submission.csv', index=False)"
      ],
      "execution_count": 33,
      "outputs": [
        {
          "output_type": "stream",
          "text": [
            "150/150 [==============================] - 5s 29ms/step\n"
          ],
          "name": "stdout"
        }
      ]
    },
    {
      "cell_type": "code",
      "metadata": {
        "id": "2NrPkC68-Z73"
      },
      "source": [
        ""
      ],
      "execution_count": null,
      "outputs": []
    }
  ]
}