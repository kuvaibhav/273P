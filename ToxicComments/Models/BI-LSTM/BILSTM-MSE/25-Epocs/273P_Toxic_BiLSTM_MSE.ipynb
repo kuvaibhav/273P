{
  "nbformat": 4,
  "nbformat_minor": 0,
  "metadata": {
    "colab": {
      "name": "273P-Toxic-BiLSTM-MSE.ipynb",
      "provenance": []
    },
    "kernelspec": {
      "name": "python3",
      "display_name": "Python 3"
    },
    "language_info": {
      "name": "python"
    },
    "accelerator": "GPU"
  },
  "cells": [
    {
      "cell_type": "code",
      "metadata": {
        "id": "0OetT42Z2x17"
      },
      "source": [
        "import pandas as pd\n",
        "import matplotlib.pyplot as plt\n",
        "dataset = pd.read_csv('train.csv')"
      ],
      "execution_count": 1,
      "outputs": []
    },
    {
      "cell_type": "code",
      "metadata": {
        "colab": {
          "base_uri": "https://localhost:8080/",
          "height": 289
        },
        "id": "n84a-zOD4WSr",
        "outputId": "f7e77480-897e-4401-88ef-8691009c8614"
      },
      "source": [
        "dataset.head()"
      ],
      "execution_count": 2,
      "outputs": [
        {
          "output_type": "execute_result",
          "data": {
            "text/html": [
              "<div>\n",
              "<style scoped>\n",
              "    .dataframe tbody tr th:only-of-type {\n",
              "        vertical-align: middle;\n",
              "    }\n",
              "\n",
              "    .dataframe tbody tr th {\n",
              "        vertical-align: top;\n",
              "    }\n",
              "\n",
              "    .dataframe thead th {\n",
              "        text-align: right;\n",
              "    }\n",
              "</style>\n",
              "<table border=\"1\" class=\"dataframe\">\n",
              "  <thead>\n",
              "    <tr style=\"text-align: right;\">\n",
              "      <th></th>\n",
              "      <th>id</th>\n",
              "      <th>comment_text</th>\n",
              "      <th>toxic</th>\n",
              "      <th>severe_toxic</th>\n",
              "      <th>obscene</th>\n",
              "      <th>threat</th>\n",
              "      <th>insult</th>\n",
              "      <th>identity_hate</th>\n",
              "    </tr>\n",
              "  </thead>\n",
              "  <tbody>\n",
              "    <tr>\n",
              "      <th>0</th>\n",
              "      <td>0000997932d777bf</td>\n",
              "      <td>Explanation\\nWhy the edits made under my usern...</td>\n",
              "      <td>0</td>\n",
              "      <td>0</td>\n",
              "      <td>0</td>\n",
              "      <td>0</td>\n",
              "      <td>0</td>\n",
              "      <td>0</td>\n",
              "    </tr>\n",
              "    <tr>\n",
              "      <th>1</th>\n",
              "      <td>000103f0d9cfb60f</td>\n",
              "      <td>D'aww! He matches this background colour I'm s...</td>\n",
              "      <td>0</td>\n",
              "      <td>0</td>\n",
              "      <td>0</td>\n",
              "      <td>0</td>\n",
              "      <td>0</td>\n",
              "      <td>0</td>\n",
              "    </tr>\n",
              "    <tr>\n",
              "      <th>2</th>\n",
              "      <td>000113f07ec002fd</td>\n",
              "      <td>Hey man, I'm really not trying to edit war. It...</td>\n",
              "      <td>0</td>\n",
              "      <td>0</td>\n",
              "      <td>0</td>\n",
              "      <td>0</td>\n",
              "      <td>0</td>\n",
              "      <td>0</td>\n",
              "    </tr>\n",
              "    <tr>\n",
              "      <th>3</th>\n",
              "      <td>0001b41b1c6bb37e</td>\n",
              "      <td>\"\\nMore\\nI can't make any real suggestions on ...</td>\n",
              "      <td>0</td>\n",
              "      <td>0</td>\n",
              "      <td>0</td>\n",
              "      <td>0</td>\n",
              "      <td>0</td>\n",
              "      <td>0</td>\n",
              "    </tr>\n",
              "    <tr>\n",
              "      <th>4</th>\n",
              "      <td>0001d958c54c6e35</td>\n",
              "      <td>You, sir, are my hero. Any chance you remember...</td>\n",
              "      <td>0</td>\n",
              "      <td>0</td>\n",
              "      <td>0</td>\n",
              "      <td>0</td>\n",
              "      <td>0</td>\n",
              "      <td>0</td>\n",
              "    </tr>\n",
              "  </tbody>\n",
              "</table>\n",
              "</div>"
            ],
            "text/plain": [
              "                 id  ... identity_hate\n",
              "0  0000997932d777bf  ...             0\n",
              "1  000103f0d9cfb60f  ...             0\n",
              "2  000113f07ec002fd  ...             0\n",
              "3  0001b41b1c6bb37e  ...             0\n",
              "4  0001d958c54c6e35  ...             0\n",
              "\n",
              "[5 rows x 8 columns]"
            ]
          },
          "metadata": {
            "tags": []
          },
          "execution_count": 2
        }
      ]
    },
    {
      "cell_type": "code",
      "metadata": {
        "colab": {
          "base_uri": "https://localhost:8080/"
        },
        "id": "LTt0ITYg4fa4",
        "outputId": "e835e08c-f77b-47c6-8944-51ff38ceb463"
      },
      "source": [
        "dataset.isnull().sum()"
      ],
      "execution_count": 3,
      "outputs": [
        {
          "output_type": "execute_result",
          "data": {
            "text/plain": [
              "id               0\n",
              "comment_text     0\n",
              "toxic            0\n",
              "severe_toxic     0\n",
              "obscene          0\n",
              "threat           0\n",
              "insult           0\n",
              "identity_hate    0\n",
              "dtype: int64"
            ]
          },
          "metadata": {
            "tags": []
          },
          "execution_count": 3
        }
      ]
    },
    {
      "cell_type": "code",
      "metadata": {
        "colab": {
          "base_uri": "https://localhost:8080/"
        },
        "id": "RgusYGe74lFK",
        "outputId": "3bc3776c-8c3f-4a33-9720-f4b34ed02da5"
      },
      "source": [
        "sentiment = dataset['comment_text'].values\n",
        "y_list = [\"toxic\",\"severe_toxic\", \"obscene\", \"threat\", \"insult\", \"identity_hate\"]\n",
        "y = dataset[y_list].values\n",
        "sentiment"
      ],
      "execution_count": 4,
      "outputs": [
        {
          "output_type": "execute_result",
          "data": {
            "text/plain": [
              "array([\"Explanation\\nWhy the edits made under my username Hardcore Metallica Fan were reverted? They weren't vandalisms, just closure on some GAs after I voted at New York Dolls FAC. And please don't remove the template from the talk page since I'm retired now.89.205.38.27\",\n",
              "       \"D'aww! He matches this background colour I'm seemingly stuck with. Thanks.  (talk) 21:51, January 11, 2016 (UTC)\",\n",
              "       \"Hey man, I'm really not trying to edit war. It's just that this guy is constantly removing relevant information and talking to me through edits instead of my talk page. He seems to care more about the formatting than the actual info.\",\n",
              "       ...,\n",
              "       'Spitzer \\n\\nUmm, theres no actual article for prostitution ring.  - Crunch Captain.',\n",
              "       'And it looks like it was actually you who put on the speedy to have the first version deleted now that I look at it.',\n",
              "       '\"\\nAnd ... I really don\\'t think you understand.  I came here and my idea was bad right away.  What kind of community goes \"\"you have bad ideas\"\" go away, instead of helping rewrite them.   \"'],\n",
              "      dtype=object)"
            ]
          },
          "metadata": {
            "tags": []
          },
          "execution_count": 4
        }
      ]
    },
    {
      "cell_type": "code",
      "metadata": {
        "id": "XKqkf5cz4pFs"
      },
      "source": [
        "from keras.preprocessing.text import Tokenizer\n",
        "tokenizer = Tokenizer(num_words=20000)\n",
        "tokenizer.fit_on_texts(list(sentiment))"
      ],
      "execution_count": 5,
      "outputs": []
    },
    {
      "cell_type": "code",
      "metadata": {
        "id": "kGc66rPE4uyt"
      },
      "source": [
        "from keras.preprocessing import text, sequence\n",
        "\n",
        "seq = tokenizer.texts_to_sequences(sentiment)\n",
        "pad = sequence.pad_sequences(seq, maxlen=100)"
      ],
      "execution_count": 6,
      "outputs": []
    },
    {
      "cell_type": "code",
      "metadata": {
        "id": "hTKfSqmJ41ox"
      },
      "source": [
        "test = pd.read_csv('test.csv')\n",
        "test = test['comment_text'].values\n",
        "test_seq = tokenizer.texts_to_sequences(test)\n",
        "test_pad = sequence.pad_sequences(test_seq, maxlen=100)"
      ],
      "execution_count": 7,
      "outputs": []
    },
    {
      "cell_type": "code",
      "metadata": {
        "id": "zQPkz_EnG5Do"
      },
      "source": [
        "def plot_history(history):\n",
        "\t  # plot loss\n",
        "    plt.title('Loss')\n",
        "    plt.plot(history.history['loss'], color='blue', label='train')\n",
        "    plt.plot(history.history['val_loss'], color='red', label='test')\n",
        "    plt.ylabel('Loss')\n",
        "    plt.xlabel('Epoch')\n",
        "    plt.legend(['Train', 'Validation'])\n",
        "    plt.show()\n",
        "    \n",
        "    # plot accuracy\n",
        "    plt.title('Accuracy')\n",
        "    plt.plot(history.history['categorical_accuracy'], color='blue', label='train')\n",
        "    plt.plot(history.history['val_categorical_accuracy'], color='red', label='test')\n",
        "    plt.ylabel('Accuracy')\n",
        "    plt.xlabel('Epoch')\n",
        "    plt.legend(['Train', 'Validation'])\n",
        "    plt.show()"
      ],
      "execution_count": 8,
      "outputs": []
    },
    {
      "cell_type": "code",
      "metadata": {
        "colab": {
          "base_uri": "https://localhost:8080/"
        },
        "id": "E0mdxyhq5Shv",
        "outputId": "9c682687-072c-411e-d136-998dc888bcd3"
      },
      "source": [
        "from keras.layers import Dense, Input, LSTM, Embedding, Dropout, Activation\n",
        "from keras.layers import Bidirectional, GlobalMaxPool1D\n",
        "from keras.models import Model\n",
        "from keras import initializers, regularizers, constraints, optimizers, layers\n",
        "\n",
        "\n",
        "def model_add():\n",
        "    inputs = Input(shape=(100, ))\n",
        "    x = Embedding(20000, 128)(inputs)\n",
        "    x = Bidirectional(LSTM(50))(x)\n",
        "    x = Dropout(0.1)(x)\n",
        "    x = Dense(50, activation=\"relu\")(x)\n",
        "    x = Dropout(0.1)(x)\n",
        "    outputs = Dense(6, activation=\"sigmoid\")(x)\n",
        "    model = Model(inputs=inputs, outputs=outputs)\n",
        "    model.compile(loss='mean_squared_error',\n",
        "                  optimizer='adam',\n",
        "                  metrics=['categorical_accuracy'])\n",
        "    return model\n",
        "model = model_add()\n",
        "print(model.summary())"
      ],
      "execution_count": 14,
      "outputs": [
        {
          "output_type": "stream",
          "text": [
            "Model: \"model_2\"\n",
            "_________________________________________________________________\n",
            "Layer (type)                 Output Shape              Param #   \n",
            "=================================================================\n",
            "input_3 (InputLayer)         [(None, 100)]             0         \n",
            "_________________________________________________________________\n",
            "embedding_2 (Embedding)      (None, 100, 128)          2560000   \n",
            "_________________________________________________________________\n",
            "bidirectional_2 (Bidirection (None, 100)               71600     \n",
            "_________________________________________________________________\n",
            "dropout_4 (Dropout)          (None, 100)               0         \n",
            "_________________________________________________________________\n",
            "dense_4 (Dense)              (None, 50)                5050      \n",
            "_________________________________________________________________\n",
            "dropout_5 (Dropout)          (None, 50)                0         \n",
            "_________________________________________________________________\n",
            "dense_5 (Dense)              (None, 6)                 306       \n",
            "=================================================================\n",
            "Total params: 2,636,956\n",
            "Trainable params: 2,636,956\n",
            "Non-trainable params: 0\n",
            "_________________________________________________________________\n",
            "None\n"
          ],
          "name": "stdout"
        }
      ]
    },
    {
      "cell_type": "code",
      "metadata": {
        "colab": {
          "base_uri": "https://localhost:8080/",
          "height": 1000
        },
        "id": "ScW2ZcHn5_oJ",
        "outputId": "39cc8e63-432e-48d3-b167-772b45211a39"
      },
      "source": [
        "from keras.callbacks import EarlyStopping, ModelCheckpoint\n",
        "early = EarlyStopping(monitor=\"val_loss\", mode=\"min\", patience=20)\n",
        "model_his = model.fit(pad, y, batch_size=32, epochs=20, validation_split=0.1, callbacks=early)\n",
        " \n",
        "plot_history(model_his)"
      ],
      "execution_count": 18,
      "outputs": [
        {
          "output_type": "stream",
          "text": [
            "Epoch 1/20\n",
            "4488/4488 [==============================] - 164s 36ms/step - loss: 0.0089 - categorical_accuracy: 0.9660 - val_loss: 0.0147 - val_categorical_accuracy: 0.9799\n",
            "Epoch 2/20\n",
            "4488/4488 [==============================] - 162s 36ms/step - loss: 0.0078 - categorical_accuracy: 0.8802 - val_loss: 0.0155 - val_categorical_accuracy: 0.9697\n",
            "Epoch 3/20\n",
            "4488/4488 [==============================] - 163s 36ms/step - loss: 0.0070 - categorical_accuracy: 0.7811 - val_loss: 0.0161 - val_categorical_accuracy: 0.8839\n",
            "Epoch 4/20\n",
            "4488/4488 [==============================] - 163s 36ms/step - loss: 0.0063 - categorical_accuracy: 0.6830 - val_loss: 0.0168 - val_categorical_accuracy: 0.6792\n",
            "Epoch 5/20\n",
            "4488/4488 [==============================] - 164s 36ms/step - loss: 0.0056 - categorical_accuracy: 0.6610 - val_loss: 0.0170 - val_categorical_accuracy: 0.8514\n",
            "Epoch 6/20\n",
            "4488/4488 [==============================] - 164s 37ms/step - loss: 0.0051 - categorical_accuracy: 0.7034 - val_loss: 0.0174 - val_categorical_accuracy: 0.9168\n",
            "Epoch 7/20\n",
            "4488/4488 [==============================] - 164s 37ms/step - loss: 0.0047 - categorical_accuracy: 0.7218 - val_loss: 0.0176 - val_categorical_accuracy: 0.6513\n",
            "Epoch 8/20\n",
            "4488/4488 [==============================] - 162s 36ms/step - loss: 0.0043 - categorical_accuracy: 0.7791 - val_loss: 0.0178 - val_categorical_accuracy: 0.8800\n",
            "Epoch 9/20\n",
            "4488/4488 [==============================] - 162s 36ms/step - loss: 0.0040 - categorical_accuracy: 0.8109 - val_loss: 0.0180 - val_categorical_accuracy: 0.9210\n",
            "Epoch 10/20\n",
            "4488/4488 [==============================] - 163s 36ms/step - loss: 0.0037 - categorical_accuracy: 0.8402 - val_loss: 0.0182 - val_categorical_accuracy: 0.8771\n",
            "Epoch 11/20\n",
            "4488/4488 [==============================] - 162s 36ms/step - loss: 0.0036 - categorical_accuracy: 0.8573 - val_loss: 0.0182 - val_categorical_accuracy: 0.8628\n",
            "Epoch 12/20\n",
            "4488/4488 [==============================] - 161s 36ms/step - loss: 0.0034 - categorical_accuracy: 0.8528 - val_loss: 0.0188 - val_categorical_accuracy: 0.9220\n",
            "Epoch 13/20\n",
            "4488/4488 [==============================] - 162s 36ms/step - loss: 0.0032 - categorical_accuracy: 0.8645 - val_loss: 0.0187 - val_categorical_accuracy: 0.9466\n",
            "Epoch 14/20\n",
            "4488/4488 [==============================] - 162s 36ms/step - loss: 0.0030 - categorical_accuracy: 0.8872 - val_loss: 0.0186 - val_categorical_accuracy: 0.9341\n",
            "Epoch 15/20\n",
            "4488/4488 [==============================] - 163s 36ms/step - loss: 0.0029 - categorical_accuracy: 0.8871 - val_loss: 0.0187 - val_categorical_accuracy: 0.9511\n",
            "Epoch 16/20\n",
            "4488/4488 [==============================] - 162s 36ms/step - loss: 0.0028 - categorical_accuracy: 0.9062 - val_loss: 0.0187 - val_categorical_accuracy: 0.9470\n",
            "Epoch 17/20\n",
            "4488/4488 [==============================] - 162s 36ms/step - loss: 0.0028 - categorical_accuracy: 0.9268 - val_loss: 0.0191 - val_categorical_accuracy: 0.9295\n",
            "Epoch 18/20\n",
            "4488/4488 [==============================] - 162s 36ms/step - loss: 0.0027 - categorical_accuracy: 0.8693 - val_loss: 0.0186 - val_categorical_accuracy: 0.9387\n",
            "Epoch 19/20\n",
            "4488/4488 [==============================] - 162s 36ms/step - loss: 0.0026 - categorical_accuracy: 0.8795 - val_loss: 0.0191 - val_categorical_accuracy: 0.9402\n",
            "Epoch 20/20\n",
            "4488/4488 [==============================] - 162s 36ms/step - loss: 0.0025 - categorical_accuracy: 0.8890 - val_loss: 0.0195 - val_categorical_accuracy: 0.8733\n"
          ],
          "name": "stdout"
        },
        {
          "output_type": "display_data",
          "data": {
            "image/png": "[encoded data removed]",
            "text/plain": [
              "<Figure size 432x288 with 1 Axes>"
            ]
          },
          "metadata": {
            "tags": [],
            "needs_background": "light"
          }
        },
        {
          "output_type": "display_data",
          "data": {
            "image/png": "[encoded data removed]",
            "text/plain": [
              "<Figure size 432x288 with 1 Axes>"
            ]
          },
          "metadata": {
            "tags": [],
            "needs_background": "light"
          }
        }
      ]
    },
    {
      "cell_type": "code",
      "metadata": {
        "colab": {
          "base_uri": "https://localhost:8080/"
        },
        "id": "XhDH1INE6EUr",
        "outputId": "47cf2604-9e4e-4ea1-ad85-658c64e2e563"
      },
      "source": [
        " y_test = model.predict([test_pad], batch_size=1024, verbose=1)\n",
        "sample_submission = pd.read_csv('sample_submission.csv')\n",
        "sample_submission[y_list] = y_test\n",
        "sample_submission.to_csv('submission.csv', index=False)"
      ],
      "execution_count": 19,
      "outputs": [
        {
          "output_type": "stream",
          "text": [
            "150/150 [==============================] - 3s 21ms/step\n"
          ],
          "name": "stdout"
        }
      ]
    },
    {
      "cell_type": "code",
      "metadata": {
        "id": "2NrPkC68-Z73"
      },
      "source": [
        ""
      ],
      "execution_count": null,
      "outputs": []
    }
  ]
}